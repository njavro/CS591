{
 "cells": [
  {
   "cell_type": "markdown",
   "metadata": {},
   "source": [
    "### Preliminary data analysis for CS591 Project on secondary shoe market StockX.com\n",
    "###### by David Neary and Anton Njavro"
   ]
  },
  {
   "cell_type": "code",
   "execution_count": 1,
   "metadata": {},
   "outputs": [],
   "source": [
    "import pandas as pd \n",
    "import numpy as np\n",
    "import matplotlib.pyplot as plt\n",
    "import gc\n",
    "from datetime import datetime\n",
    "import seaborn as sns\n",
    "import matplotlib.animation as animation\n",
    "from matplotlib import rc\n",
    "from datetime import datetime\n",
    "import datetime\n",
    "import time"
   ]
  },
  {
   "cell_type": "code",
   "execution_count": 2,
   "metadata": {},
   "outputs": [],
   "source": [
    "#Load our data\n",
    "stockx_2019_data = pd.read_csv('data/2019_data_stockx.csv')"
   ]
  },
  {
   "cell_type": "code",
   "execution_count": 3,
   "metadata": {},
   "outputs": [],
   "source": [
    "#def days()\n",
    "def days(given_date_difference):\n",
    "    return abs(given_date_difference.days)"
   ]
  },
  {
   "cell_type": "code",
   "execution_count": 4,
   "metadata": {},
   "outputs": [],
   "source": [
    "#Edit dates to datetime format YYY/MM/DD\n",
    "stockx_2019_data['Order Date'] = pd.to_datetime(stockx_2019_data['Order Date'])\n",
    "stockx_2019_data['Release Date'] = pd.to_datetime(stockx_2019_data['Release Date'])\n",
    "#Add column containing day difference between Release Date and Order Date\n",
    "stockx_2019_data['Date Difference'] = (stockx_2019_data['Release Date'] - stockx_2019_data['Order Date']).apply(days)"
   ]
  },
  {
   "cell_type": "code",
   "execution_count": 5,
   "metadata": {},
   "outputs": [
    {
     "data": {
      "text/html": [
       "<div>\n",
       "<style scoped>\n",
       "    .dataframe tbody tr th:only-of-type {\n",
       "        vertical-align: middle;\n",
       "    }\n",
       "\n",
       "    .dataframe tbody tr th {\n",
       "        vertical-align: top;\n",
       "    }\n",
       "\n",
       "    .dataframe thead th {\n",
       "        text-align: right;\n",
       "    }\n",
       "</style>\n",
       "<table border=\"1\" class=\"dataframe\">\n",
       "  <thead>\n",
       "    <tr style=\"text-align: right;\">\n",
       "      <th></th>\n",
       "      <th>Order Date</th>\n",
       "      <th>Brand</th>\n",
       "      <th>Sneaker Name</th>\n",
       "      <th>Sale Price</th>\n",
       "      <th>Retail Price</th>\n",
       "      <th>Release Date</th>\n",
       "      <th>Shoe Size</th>\n",
       "      <th>Buyer Region</th>\n",
       "      <th>Date Difference</th>\n",
       "    </tr>\n",
       "  </thead>\n",
       "  <tbody>\n",
       "    <tr>\n",
       "      <th>0</th>\n",
       "      <td>2017-09-01</td>\n",
       "      <td>Yeezy</td>\n",
       "      <td>Adidas-Yeezy-Boost-350-Low-V2-Beluga</td>\n",
       "      <td>$1,097</td>\n",
       "      <td>$220</td>\n",
       "      <td>2016-09-24</td>\n",
       "      <td>11.0</td>\n",
       "      <td>California</td>\n",
       "      <td>342</td>\n",
       "    </tr>\n",
       "    <tr>\n",
       "      <th>1</th>\n",
       "      <td>2017-09-01</td>\n",
       "      <td>Yeezy</td>\n",
       "      <td>Adidas-Yeezy-Boost-350-V2-Core-Black-Copper</td>\n",
       "      <td>$685</td>\n",
       "      <td>$220</td>\n",
       "      <td>2016-11-23</td>\n",
       "      <td>11.0</td>\n",
       "      <td>California</td>\n",
       "      <td>282</td>\n",
       "    </tr>\n",
       "    <tr>\n",
       "      <th>2</th>\n",
       "      <td>2017-09-01</td>\n",
       "      <td>Yeezy</td>\n",
       "      <td>Adidas-Yeezy-Boost-350-V2-Core-Black-Green</td>\n",
       "      <td>$690</td>\n",
       "      <td>$220</td>\n",
       "      <td>2016-11-23</td>\n",
       "      <td>11.0</td>\n",
       "      <td>California</td>\n",
       "      <td>282</td>\n",
       "    </tr>\n",
       "    <tr>\n",
       "      <th>3</th>\n",
       "      <td>2017-09-01</td>\n",
       "      <td>Yeezy</td>\n",
       "      <td>Adidas-Yeezy-Boost-350-V2-Core-Black-Red</td>\n",
       "      <td>$1,075</td>\n",
       "      <td>$220</td>\n",
       "      <td>2016-11-23</td>\n",
       "      <td>11.5</td>\n",
       "      <td>Kentucky</td>\n",
       "      <td>282</td>\n",
       "    </tr>\n",
       "    <tr>\n",
       "      <th>4</th>\n",
       "      <td>2017-09-01</td>\n",
       "      <td>Yeezy</td>\n",
       "      <td>Adidas-Yeezy-Boost-350-V2-Core-Black-Red-2017</td>\n",
       "      <td>$828</td>\n",
       "      <td>$220</td>\n",
       "      <td>2017-02-11</td>\n",
       "      <td>11.0</td>\n",
       "      <td>Rhode Island</td>\n",
       "      <td>202</td>\n",
       "    </tr>\n",
       "  </tbody>\n",
       "</table>\n",
       "</div>"
      ],
      "text/plain": [
       "  Order Date   Brand                                   Sneaker Name  \\\n",
       "0 2017-09-01   Yeezy           Adidas-Yeezy-Boost-350-Low-V2-Beluga   \n",
       "1 2017-09-01   Yeezy    Adidas-Yeezy-Boost-350-V2-Core-Black-Copper   \n",
       "2 2017-09-01   Yeezy     Adidas-Yeezy-Boost-350-V2-Core-Black-Green   \n",
       "3 2017-09-01   Yeezy       Adidas-Yeezy-Boost-350-V2-Core-Black-Red   \n",
       "4 2017-09-01   Yeezy  Adidas-Yeezy-Boost-350-V2-Core-Black-Red-2017   \n",
       "\n",
       "  Sale Price Retail Price Release Date  Shoe Size  Buyer Region  \\\n",
       "0     $1,097         $220   2016-09-24       11.0    California   \n",
       "1       $685         $220   2016-11-23       11.0    California   \n",
       "2       $690         $220   2016-11-23       11.0    California   \n",
       "3     $1,075         $220   2016-11-23       11.5      Kentucky   \n",
       "4       $828         $220   2017-02-11       11.0  Rhode Island   \n",
       "\n",
       "   Date Difference  \n",
       "0              342  \n",
       "1              282  \n",
       "2              282  \n",
       "3              282  \n",
       "4              202  "
      ]
     },
     "execution_count": 5,
     "metadata": {},
     "output_type": "execute_result"
    }
   ],
   "source": [
    "stockx_2019_data.head(5)"
   ]
  },
  {
   "cell_type": "code",
   "execution_count": 6,
   "metadata": {},
   "outputs": [
    {
     "data": {
      "text/plain": [
       "(99956, 9)"
      ]
     },
     "execution_count": 6,
     "metadata": {},
     "output_type": "execute_result"
    }
   ],
   "source": [
    "stockx_2019_data.shape"
   ]
  },
  {
   "cell_type": "code",
   "execution_count": 7,
   "metadata": {},
   "outputs": [],
   "source": [
    "#Turn Sale Price column and Retail Price into int\n",
    "def toPrice(given_price):\n",
    "    #From $xxx to int(xxx) format\n",
    "    return int(given_price[1:].replace(',', ''))"
   ]
  },
  {
   "cell_type": "code",
   "execution_count": 8,
   "metadata": {},
   "outputs": [],
   "source": [
    "#Transform price columns in proper format \n",
    "stockx_2019_data['Sale Price'] = stockx_2019_data['Sale Price'].apply(toPrice)\n",
    "stockx_2019_data['Retail Price'] = stockx_2019_data['Retail Price'].apply(toPrice)"
   ]
  },
  {
   "cell_type": "code",
   "execution_count": 9,
   "metadata": {},
   "outputs": [
    {
     "data": {
      "text/html": [
       "<div>\n",
       "<style scoped>\n",
       "    .dataframe tbody tr th:only-of-type {\n",
       "        vertical-align: middle;\n",
       "    }\n",
       "\n",
       "    .dataframe tbody tr th {\n",
       "        vertical-align: top;\n",
       "    }\n",
       "\n",
       "    .dataframe thead th {\n",
       "        text-align: right;\n",
       "    }\n",
       "</style>\n",
       "<table border=\"1\" class=\"dataframe\">\n",
       "  <thead>\n",
       "    <tr style=\"text-align: right;\">\n",
       "      <th></th>\n",
       "      <th>Order Date</th>\n",
       "      <th>Brand</th>\n",
       "      <th>Sneaker Name</th>\n",
       "      <th>Sale Price</th>\n",
       "      <th>Retail Price</th>\n",
       "      <th>Release Date</th>\n",
       "      <th>Shoe Size</th>\n",
       "      <th>Buyer Region</th>\n",
       "      <th>Date Difference</th>\n",
       "    </tr>\n",
       "  </thead>\n",
       "  <tbody>\n",
       "    <tr>\n",
       "      <th>0</th>\n",
       "      <td>2017-09-01</td>\n",
       "      <td>Yeezy</td>\n",
       "      <td>Adidas-Yeezy-Boost-350-Low-V2-Beluga</td>\n",
       "      <td>1097</td>\n",
       "      <td>220</td>\n",
       "      <td>2016-09-24</td>\n",
       "      <td>11.0</td>\n",
       "      <td>California</td>\n",
       "      <td>342</td>\n",
       "    </tr>\n",
       "    <tr>\n",
       "      <th>1</th>\n",
       "      <td>2017-09-01</td>\n",
       "      <td>Yeezy</td>\n",
       "      <td>Adidas-Yeezy-Boost-350-V2-Core-Black-Copper</td>\n",
       "      <td>685</td>\n",
       "      <td>220</td>\n",
       "      <td>2016-11-23</td>\n",
       "      <td>11.0</td>\n",
       "      <td>California</td>\n",
       "      <td>282</td>\n",
       "    </tr>\n",
       "    <tr>\n",
       "      <th>2</th>\n",
       "      <td>2017-09-01</td>\n",
       "      <td>Yeezy</td>\n",
       "      <td>Adidas-Yeezy-Boost-350-V2-Core-Black-Green</td>\n",
       "      <td>690</td>\n",
       "      <td>220</td>\n",
       "      <td>2016-11-23</td>\n",
       "      <td>11.0</td>\n",
       "      <td>California</td>\n",
       "      <td>282</td>\n",
       "    </tr>\n",
       "    <tr>\n",
       "      <th>3</th>\n",
       "      <td>2017-09-01</td>\n",
       "      <td>Yeezy</td>\n",
       "      <td>Adidas-Yeezy-Boost-350-V2-Core-Black-Red</td>\n",
       "      <td>1075</td>\n",
       "      <td>220</td>\n",
       "      <td>2016-11-23</td>\n",
       "      <td>11.5</td>\n",
       "      <td>Kentucky</td>\n",
       "      <td>282</td>\n",
       "    </tr>\n",
       "    <tr>\n",
       "      <th>4</th>\n",
       "      <td>2017-09-01</td>\n",
       "      <td>Yeezy</td>\n",
       "      <td>Adidas-Yeezy-Boost-350-V2-Core-Black-Red-2017</td>\n",
       "      <td>828</td>\n",
       "      <td>220</td>\n",
       "      <td>2017-02-11</td>\n",
       "      <td>11.0</td>\n",
       "      <td>Rhode Island</td>\n",
       "      <td>202</td>\n",
       "    </tr>\n",
       "  </tbody>\n",
       "</table>\n",
       "</div>"
      ],
      "text/plain": [
       "  Order Date   Brand                                   Sneaker Name  \\\n",
       "0 2017-09-01   Yeezy           Adidas-Yeezy-Boost-350-Low-V2-Beluga   \n",
       "1 2017-09-01   Yeezy    Adidas-Yeezy-Boost-350-V2-Core-Black-Copper   \n",
       "2 2017-09-01   Yeezy     Adidas-Yeezy-Boost-350-V2-Core-Black-Green   \n",
       "3 2017-09-01   Yeezy       Adidas-Yeezy-Boost-350-V2-Core-Black-Red   \n",
       "4 2017-09-01   Yeezy  Adidas-Yeezy-Boost-350-V2-Core-Black-Red-2017   \n",
       "\n",
       "   Sale Price  Retail Price Release Date  Shoe Size  Buyer Region  \\\n",
       "0        1097           220   2016-09-24       11.0    California   \n",
       "1         685           220   2016-11-23       11.0    California   \n",
       "2         690           220   2016-11-23       11.0    California   \n",
       "3        1075           220   2016-11-23       11.5      Kentucky   \n",
       "4         828           220   2017-02-11       11.0  Rhode Island   \n",
       "\n",
       "   Date Difference  \n",
       "0              342  \n",
       "1              282  \n",
       "2              282  \n",
       "3              282  \n",
       "4              202  "
      ]
     },
     "execution_count": 9,
     "metadata": {},
     "output_type": "execute_result"
    }
   ],
   "source": [
    "stockx_2019_data.head(5)"
   ]
  },
  {
   "cell_type": "code",
   "execution_count": 10,
   "metadata": {},
   "outputs": [
    {
     "data": {
      "text/plain": [
       "count    99956.000000\n",
       "mean       446.634719\n",
       "std        255.982969\n",
       "min        186.000000\n",
       "25%        275.000000\n",
       "50%        370.000000\n",
       "75%        540.000000\n",
       "max       4050.000000\n",
       "Name: Sale Price, dtype: float64"
      ]
     },
     "execution_count": 10,
     "metadata": {},
     "output_type": "execute_result"
    }
   ],
   "source": [
    "#Let's see some information about sale prices\n",
    "stockx_2019_data['Sale Price'].describe()"
   ]
  },
  {
   "cell_type": "code",
   "execution_count": 46,
   "metadata": {},
   "outputs": [
    {
     "data": {
      "text/plain": [
       "count    99956.00000\n",
       "mean       208.61359\n",
       "std         25.20001\n",
       "min        130.00000\n",
       "25%        220.00000\n",
       "50%        220.00000\n",
       "75%        220.00000\n",
       "max        250.00000\n",
       "Name: Retail Price, dtype: float64"
      ]
     },
     "execution_count": 46,
     "metadata": {},
     "output_type": "execute_result"
    }
   ],
   "source": [
    "stockx_2019_data['Retail Price'].describe()"
   ]
  },
  {
   "cell_type": "code",
   "execution_count": 44,
   "metadata": {},
   "outputs": [
    {
     "data": {
      "text/plain": [
       "<matplotlib.axes._subplots.AxesSubplot at 0x1a25616fd0>"
      ]
     },
     "execution_count": 44,
     "metadata": {},
     "output_type": "execute_result"
    },
    {
     "data": {
      "image/png": "[encoded data removed]",
      "text/plain": [
       "<Figure size 432x288 with 1 Axes>"
      ]
     },
     "metadata": {
      "needs_background": "light"
     },
     "output_type": "display_data"
    }
   ],
   "source": [
    "#Plot price column, as we can see most of the prices hoover around $200-$500\n",
    "sns.distplot(stockx_2019_data['Sale Price'])"
   ]
  },
  {
   "cell_type": "code",
   "execution_count": 45,
   "metadata": {},
   "outputs": [
    {
     "data": {
      "text/plain": [
       "<matplotlib.axes._subplots.AxesSubplot at 0x1a25f0ca90>"
      ]
     },
     "execution_count": 45,
     "metadata": {},
     "output_type": "execute_result"
    },
    {
     "data": {
      "image/png": "[encoded data removed]",
      "text/plain": [
       "<Figure size 432x288 with 1 Axes>"
      ]
     },
     "metadata": {
      "needs_background": "light"
     },
     "output_type": "display_data"
    }
   ],
   "source": [
    "#Retail prices are very much centered around $200 dollars\n",
    "sns.distplot(stockx_2019_data['Retail Price'])"
   ]
  },
  {
   "cell_type": "code",
   "execution_count": 11,
   "metadata": {},
   "outputs": [
    {
     "data": {
      "text/plain": [
       "count    99956.00000\n",
       "mean       208.61359\n",
       "std         25.20001\n",
       "min        130.00000\n",
       "25%        220.00000\n",
       "50%        220.00000\n",
       "75%        220.00000\n",
       "max        250.00000\n",
       "Name: Retail Price, dtype: float64"
      ]
     },
     "execution_count": 11,
     "metadata": {},
     "output_type": "execute_result"
    }
   ],
   "source": [
    "#Let's see some information about retail prices\n",
    "stockx_2019_data['Retail Price'].describe()"
   ]
  },
  {
   "cell_type": "markdown",
   "metadata": {},
   "source": [
    "As we can see there is a significant difference in means with sale price being more than double of the retail price on average."
   ]
  },
  {
   "cell_type": "code",
   "execution_count": 12,
   "metadata": {},
   "outputs": [],
   "source": [
    "#List of Brands\n",
    "brands = stockx_2019_data.Brand.unique()\n",
    "#List of dates\n",
    "dates = stockx_2019_data['Order Date'].unique()\n",
    "#List of sneaker names\n",
    "sneaker_names = stockx_2019_data['Sneaker Name'].unique()\n",
    "#Shoe sizes\n",
    "shoe_sizes = sorted(stockx_2019_data['Shoe Size'].unique())\n",
    "#Buyer State\n",
    "buyer_state = stockx_2019_data['Buyer Region'].unique()\n",
    "#Release dates\n",
    "release_dates = stockx_2019_data['Release Date'].unique()\n",
    "#Date difference\n",
    "date_difference = sorted(stockx_2019_data['Date Difference'].unique())\n",
    "\n",
    "our_lists = [brands,dates,sneaker_names,shoe_sizes,buyer_state,release_dates] "
   ]
  },
  {
   "cell_type": "code",
   "execution_count": 13,
   "metadata": {},
   "outputs": [],
   "source": [
    "#Calculate percentages\n",
    "#Percentage between Yeezy/Off-White\n",
    "brand_percentage = stockx_2019_data['Brand'].value_counts(normalize=True) * 100\n",
    "#Gives top 25 states, 92.8% of all sales\n",
    "state_percentage = stockx_2019_data['Buyer Region'].value_counts(normalize=True)[:25] * 100\n",
    "#Shoe Size percentages\n",
    "shoe_size_percentage = stockx_2019_data['Shoe Size'].value_counts(normalize=True) * 100\n",
    "#Shoe models percentages (top 25 of shoe_models are 91% of sales)\n",
    "shoe_models_percentage = stockx_2019_data['Sneaker Name'].value_counts(normalize=True) * 100\n",
    "#Dates percentages (Top 2 dates are related to Yeezy releases)\n",
    "dates_percentage = stockx_2019_data['Order Date'].value_counts(normalize=True) * 100\n",
    "#Date Difference percentages (Info, 10% of all sales happen within 2 days of release, 22% of all sales happen within 9 dates)\n",
    "date_difference_percentage = stockx_2019_data['Date Difference'].value_counts(normalize=True) * 100"
   ]
  },
  {
   "cell_type": "code",
   "execution_count": 14,
   "metadata": {},
   "outputs": [],
   "source": [
    "#Function to plot Pie-charts\n",
    "def pie_chart(labels,sizes):\n",
    "    #explode = (0, 0.1, 0, 0)\n",
    "    fig1, ax1 = plt.subplots()\n",
    "    ax1.pie(sizes, labels=labels, autopct='%1.1f%%',shadow=True, startangle=90)# Equal aspect ratio ensures that pie is drawn as a circle\n",
    "    ax1.axis('equal')  \n",
    "    plt.tight_layout()\n",
    "    plt.show()\n",
    "\n",
    "#Extract labels from percentages\n",
    "def extract_label_list(given_np_list):\n",
    "    #Return 2 lists, 1st: [labels], 2nd: [percentages]\n",
    "    #given_np_list\n",
    "    label_list = []\n",
    "    pct_list = []\n",
    "    for i in range(len(given_np_list)):\n",
    "        #print(given_np_list[i])\n",
    "        label_list.append(given_np_list[given_np_list==given_np_list[i]].index[0])\n",
    "        pct_list.append(given_np_list[i])\n",
    "    #print(label_list)\n",
    "    return label_list, pct_list\n",
    "        "
   ]
  },
  {
   "cell_type": "code",
   "execution_count": 15,
   "metadata": {},
   "outputs": [
    {
     "name": "stdout",
     "output_type": "stream",
     "text": [
      "[' Yeezy', 'Off-White']\n"
     ]
    },
    {
     "data": {
      "image/png": "[encoded data removed]",
      "text/plain": [
       "<Figure size 432x288 with 1 Axes>"
      ]
     },
     "metadata": {},
     "output_type": "display_data"
    }
   ],
   "source": [
    "#Brands Pie-Chart\n",
    "brand_label,brand_pct = extract_label_list(brand_percentage)\n",
    "pie_chart(brand_label,brand_pct)"
   ]
  },
  {
   "cell_type": "code",
   "execution_count": 16,
   "metadata": {},
   "outputs": [
    {
     "name": "stdout",
     "output_type": "stream",
     "text": [
      "['California', 'New York', 'Oregon', 'Florida', 'Texas', 'New Jersey', 'Illinois', 'Pennsylvania', 'Massachusetts', 'Michigan']\n"
     ]
    },
    {
     "data": {
      "image/png": "[encoded data removed]",
      "text/plain": [
       "<Figure size 432x288 with 1 Axes>"
      ]
     },
     "metadata": {},
     "output_type": "display_data"
    }
   ],
   "source": [
    "#State Percentages (Only for top 10 states)\n",
    "state_label, state_pct = extract_label_list(state_percentage[:10])\n",
    "pie_chart(state_label,state_pct)"
   ]
  },
  {
   "cell_type": "code",
   "execution_count": 17,
   "metadata": {},
   "outputs": [
    {
     "name": "stdout",
     "output_type": "stream",
     "text": [
      "[0, 1, 2, 3, 4, 5, 6, 7, 8, 9]\n"
     ]
    },
    {
     "data": {
      "image/png": "[encoded data removed]",
      "text/plain": [
       "<Figure size 432x288 with 1 Axes>"
      ]
     },
     "metadata": {},
     "output_type": "display_data"
    }
   ],
   "source": [
    "#Percentage of sales within release date (Only for top 10 differences)\n",
    "date_difference_label, date_difference_pct = extract_label_list(date_difference_percentage[:10])\n",
    "pie_chart(date_difference_label,date_difference_pct)"
   ]
  },
  {
   "cell_type": "code",
   "execution_count": 27,
   "metadata": {},
   "outputs": [
    {
     "data": {
      "text/plain": [
       "[0, 1, 2, 3, 4, 5, 6, 7, 8, 9]"
      ]
     },
     "execution_count": 27,
     "metadata": {},
     "output_type": "execute_result"
    }
   ],
   "source": [
    "#Try plotting histogram with x-axis days, y-axis number of sales\n",
    "date_difference_label"
   ]
  },
  {
   "cell_type": "markdown",
   "metadata": {},
   "source": [
    "#### Google Trends data\n",
    "\n",
    "Data from Google trends will be downloaded for dates: 06/01/2015 to 03/01/2019\n"
   ]
  },
  {
   "cell_type": "code",
   "execution_count": 28,
   "metadata": {},
   "outputs": [],
   "source": [
    "#Google trends for term \"Adidas Yeezy\"\n",
    "adidas_yeezy_gtrends = pd.read_csv('data/adidas_yeezy_gtrends.csv')\n",
    "#Transform Week column in needed format\n",
    "adidas_yeezy_gtrends['Week'] = adidas_yeezy_gtrends['Week'].apply(pd.Timestamp)\n",
    "adidas_yeezy_gtrends.rename(columns = {'Adidas Yeezy: (United States)':'Adidas Yeezy'}, inplace = True) \n",
    "\n",
    "#Google trends for term \"Off White\"\n",
    "off_white_gtrends = pd.read_csv('data/off_white_gtrends.csv')\n",
    "#Transform Week column in needed format\n",
    "off_white_gtrends['Week'] = off_white_gtrends['Week'].apply(pd.Timestamp)\n",
    "off_white_gtrends.rename(columns = {'Off-White: (United States)':'Off-White'}, inplace = True) \n",
    "\n",
    "#Google trends for term \"Kanye West\"\n",
    "kanye_west_gtrends = pd.read_csv('data/kanye_west_gtrends.csv')\n",
    "#Transform Week column in needed format\n",
    "kanye_west_gtrends['Week'] = kanye_west_gtrends['Week'].apply(pd.Timestamp)\n",
    "kanye_west_gtrends.rename(columns = {'Kanye West: (United States)':'Kanye West'}, inplace = True) "
   ]
  },
  {
   "cell_type": "code",
   "execution_count": 29,
   "metadata": {},
   "outputs": [
    {
     "data": {
      "text/html": [
       "<div>\n",
       "<style scoped>\n",
       "    .dataframe tbody tr th:only-of-type {\n",
       "        vertical-align: middle;\n",
       "    }\n",
       "\n",
       "    .dataframe tbody tr th {\n",
       "        vertical-align: top;\n",
       "    }\n",
       "\n",
       "    .dataframe thead th {\n",
       "        text-align: right;\n",
       "    }\n",
       "</style>\n",
       "<table border=\"1\" class=\"dataframe\">\n",
       "  <thead>\n",
       "    <tr style=\"text-align: right;\">\n",
       "      <th></th>\n",
       "      <th>Week</th>\n",
       "      <th>Off-White</th>\n",
       "    </tr>\n",
       "  </thead>\n",
       "  <tbody>\n",
       "    <tr>\n",
       "      <th>0</th>\n",
       "      <td>2015-06-07</td>\n",
       "      <td>5</td>\n",
       "    </tr>\n",
       "    <tr>\n",
       "      <th>1</th>\n",
       "      <td>2015-06-14</td>\n",
       "      <td>6</td>\n",
       "    </tr>\n",
       "    <tr>\n",
       "      <th>2</th>\n",
       "      <td>2015-06-21</td>\n",
       "      <td>5</td>\n",
       "    </tr>\n",
       "    <tr>\n",
       "      <th>3</th>\n",
       "      <td>2015-06-28</td>\n",
       "      <td>6</td>\n",
       "    </tr>\n",
       "    <tr>\n",
       "      <th>4</th>\n",
       "      <td>2015-07-05</td>\n",
       "      <td>7</td>\n",
       "    </tr>\n",
       "  </tbody>\n",
       "</table>\n",
       "</div>"
      ],
      "text/plain": [
       "        Week  Off-White\n",
       "0 2015-06-07          5\n",
       "1 2015-06-14          6\n",
       "2 2015-06-21          5\n",
       "3 2015-06-28          6\n",
       "4 2015-07-05          7"
      ]
     },
     "execution_count": 29,
     "metadata": {},
     "output_type": "execute_result"
    }
   ],
   "source": [
    "off_white_gtrends.head()"
   ]
  },
  {
   "cell_type": "markdown",
   "metadata": {},
   "source": [
    "#### Let's see some information about Google Trends data"
   ]
  },
  {
   "cell_type": "code",
   "execution_count": 30,
   "metadata": {},
   "outputs": [
    {
     "data": {
      "text/html": [
       "<div>\n",
       "<style scoped>\n",
       "    .dataframe tbody tr th:only-of-type {\n",
       "        vertical-align: middle;\n",
       "    }\n",
       "\n",
       "    .dataframe tbody tr th {\n",
       "        vertical-align: top;\n",
       "    }\n",
       "\n",
       "    .dataframe thead th {\n",
       "        text-align: right;\n",
       "    }\n",
       "</style>\n",
       "<table border=\"1\" class=\"dataframe\">\n",
       "  <thead>\n",
       "    <tr style=\"text-align: right;\">\n",
       "      <th></th>\n",
       "      <th>Adidas Yeezy</th>\n",
       "    </tr>\n",
       "  </thead>\n",
       "  <tbody>\n",
       "    <tr>\n",
       "      <th>count</th>\n",
       "      <td>200.000000</td>\n",
       "    </tr>\n",
       "    <tr>\n",
       "      <th>mean</th>\n",
       "      <td>26.220000</td>\n",
       "    </tr>\n",
       "    <tr>\n",
       "      <th>std</th>\n",
       "      <td>11.968199</td>\n",
       "    </tr>\n",
       "    <tr>\n",
       "      <th>min</th>\n",
       "      <td>3.000000</td>\n",
       "    </tr>\n",
       "    <tr>\n",
       "      <th>25%</th>\n",
       "      <td>19.750000</td>\n",
       "    </tr>\n",
       "    <tr>\n",
       "      <th>50%</th>\n",
       "      <td>24.000000</td>\n",
       "    </tr>\n",
       "    <tr>\n",
       "      <th>75%</th>\n",
       "      <td>30.000000</td>\n",
       "    </tr>\n",
       "    <tr>\n",
       "      <th>max</th>\n",
       "      <td>100.000000</td>\n",
       "    </tr>\n",
       "  </tbody>\n",
       "</table>\n",
       "</div>"
      ],
      "text/plain": [
       "       Adidas Yeezy\n",
       "count    200.000000\n",
       "mean      26.220000\n",
       "std       11.968199\n",
       "min        3.000000\n",
       "25%       19.750000\n",
       "50%       24.000000\n",
       "75%       30.000000\n",
       "max      100.000000"
      ]
     },
     "execution_count": 30,
     "metadata": {},
     "output_type": "execute_result"
    }
   ],
   "source": [
    "adidas_yeezy_gtrends.describe()"
   ]
  },
  {
   "cell_type": "code",
   "execution_count": 31,
   "metadata": {},
   "outputs": [
    {
     "data": {
      "text/html": [
       "<div>\n",
       "<style scoped>\n",
       "    .dataframe tbody tr th:only-of-type {\n",
       "        vertical-align: middle;\n",
       "    }\n",
       "\n",
       "    .dataframe tbody tr th {\n",
       "        vertical-align: top;\n",
       "    }\n",
       "\n",
       "    .dataframe thead th {\n",
       "        text-align: right;\n",
       "    }\n",
       "</style>\n",
       "<table border=\"1\" class=\"dataframe\">\n",
       "  <thead>\n",
       "    <tr style=\"text-align: right;\">\n",
       "      <th></th>\n",
       "      <th>Off-White</th>\n",
       "    </tr>\n",
       "  </thead>\n",
       "  <tbody>\n",
       "    <tr>\n",
       "      <th>count</th>\n",
       "      <td>200.000000</td>\n",
       "    </tr>\n",
       "    <tr>\n",
       "      <th>mean</th>\n",
       "      <td>34.555000</td>\n",
       "    </tr>\n",
       "    <tr>\n",
       "      <th>std</th>\n",
       "      <td>26.473975</td>\n",
       "    </tr>\n",
       "    <tr>\n",
       "      <th>min</th>\n",
       "      <td>5.000000</td>\n",
       "    </tr>\n",
       "    <tr>\n",
       "      <th>25%</th>\n",
       "      <td>10.000000</td>\n",
       "    </tr>\n",
       "    <tr>\n",
       "      <th>50%</th>\n",
       "      <td>20.000000</td>\n",
       "    </tr>\n",
       "    <tr>\n",
       "      <th>75%</th>\n",
       "      <td>59.250000</td>\n",
       "    </tr>\n",
       "    <tr>\n",
       "      <th>max</th>\n",
       "      <td>100.000000</td>\n",
       "    </tr>\n",
       "  </tbody>\n",
       "</table>\n",
       "</div>"
      ],
      "text/plain": [
       "        Off-White\n",
       "count  200.000000\n",
       "mean    34.555000\n",
       "std     26.473975\n",
       "min      5.000000\n",
       "25%     10.000000\n",
       "50%     20.000000\n",
       "75%     59.250000\n",
       "max    100.000000"
      ]
     },
     "execution_count": 31,
     "metadata": {},
     "output_type": "execute_result"
    }
   ],
   "source": [
    "off_white_gtrends.describe()"
   ]
  },
  {
   "cell_type": "code",
   "execution_count": 32,
   "metadata": {},
   "outputs": [
    {
     "data": {
      "text/html": [
       "<div>\n",
       "<style scoped>\n",
       "    .dataframe tbody tr th:only-of-type {\n",
       "        vertical-align: middle;\n",
       "    }\n",
       "\n",
       "    .dataframe tbody tr th {\n",
       "        vertical-align: top;\n",
       "    }\n",
       "\n",
       "    .dataframe thead th {\n",
       "        text-align: right;\n",
       "    }\n",
       "</style>\n",
       "<table border=\"1\" class=\"dataframe\">\n",
       "  <thead>\n",
       "    <tr style=\"text-align: right;\">\n",
       "      <th></th>\n",
       "      <th>Kanye West</th>\n",
       "    </tr>\n",
       "  </thead>\n",
       "  <tbody>\n",
       "    <tr>\n",
       "      <th>count</th>\n",
       "      <td>200.000000</td>\n",
       "    </tr>\n",
       "    <tr>\n",
       "      <th>mean</th>\n",
       "      <td>10.250000</td>\n",
       "    </tr>\n",
       "    <tr>\n",
       "      <th>std</th>\n",
       "      <td>10.578612</td>\n",
       "    </tr>\n",
       "    <tr>\n",
       "      <th>min</th>\n",
       "      <td>4.000000</td>\n",
       "    </tr>\n",
       "    <tr>\n",
       "      <th>25%</th>\n",
       "      <td>5.000000</td>\n",
       "    </tr>\n",
       "    <tr>\n",
       "      <th>50%</th>\n",
       "      <td>7.000000</td>\n",
       "    </tr>\n",
       "    <tr>\n",
       "      <th>75%</th>\n",
       "      <td>11.000000</td>\n",
       "    </tr>\n",
       "    <tr>\n",
       "      <th>max</th>\n",
       "      <td>100.000000</td>\n",
       "    </tr>\n",
       "  </tbody>\n",
       "</table>\n",
       "</div>"
      ],
      "text/plain": [
       "       Kanye West\n",
       "count  200.000000\n",
       "mean    10.250000\n",
       "std     10.578612\n",
       "min      4.000000\n",
       "25%      5.000000\n",
       "50%      7.000000\n",
       "75%     11.000000\n",
       "max    100.000000"
      ]
     },
     "execution_count": 32,
     "metadata": {},
     "output_type": "execute_result"
    }
   ],
   "source": [
    "kanye_west_gtrends.describe()"
   ]
  },
  {
   "cell_type": "markdown",
   "metadata": {},
   "source": [
    "##### To have a more meaningful analysis we will only focus on peaks in Google trends, peaks we will define as everything that's 1STD above mean."
   ]
  },
  {
   "cell_type": "code",
   "execution_count": 33,
   "metadata": {},
   "outputs": [],
   "source": [
    "kanye_west_peaks = kanye_west_gtrends[kanye_west_gtrends['Kanye West'] >= (kanye_west_gtrends.describe().iloc[1][0] + kanye_west_gtrends.describe().iloc[2][0])]\n",
    "off_white_peaks = off_white_gtrends[off_white_gtrends['Off-White'] >= (off_white_gtrends.describe().iloc[1][0] + off_white_gtrends.describe().iloc[2][0])]\n",
    "adidas_yeezy_peaks = adidas_yeezy_gtrends[adidas_yeezy_gtrends['Adidas Yeezy'] >= (adidas_yeezy_gtrends.describe().iloc[1][0] + adidas_yeezy_gtrends.describe().iloc[2][0])]"
   ]
  },
  {
   "cell_type": "code",
   "execution_count": 35,
   "metadata": {},
   "outputs": [
    {
     "data": {
      "text/html": [
       "<div>\n",
       "<style scoped>\n",
       "    .dataframe tbody tr th:only-of-type {\n",
       "        vertical-align: middle;\n",
       "    }\n",
       "\n",
       "    .dataframe tbody tr th {\n",
       "        vertical-align: top;\n",
       "    }\n",
       "\n",
       "    .dataframe thead th {\n",
       "        text-align: right;\n",
       "    }\n",
       "</style>\n",
       "<table border=\"1\" class=\"dataframe\">\n",
       "  <thead>\n",
       "    <tr style=\"text-align: right;\">\n",
       "      <th></th>\n",
       "      <th>Week</th>\n",
       "      <th>Off-White</th>\n",
       "    </tr>\n",
       "  </thead>\n",
       "  <tbody>\n",
       "    <tr>\n",
       "      <th>126</th>\n",
       "      <td>2017-11-05</td>\n",
       "      <td>68</td>\n",
       "    </tr>\n",
       "    <tr>\n",
       "      <th>128</th>\n",
       "      <td>2017-11-19</td>\n",
       "      <td>100</td>\n",
       "    </tr>\n",
       "    <tr>\n",
       "      <th>129</th>\n",
       "      <td>2017-11-26</td>\n",
       "      <td>65</td>\n",
       "    </tr>\n",
       "    <tr>\n",
       "      <th>133</th>\n",
       "      <td>2017-12-24</td>\n",
       "      <td>67</td>\n",
       "    </tr>\n",
       "    <tr>\n",
       "      <th>135</th>\n",
       "      <td>2018-01-07</td>\n",
       "      <td>67</td>\n",
       "    </tr>\n",
       "  </tbody>\n",
       "</table>\n",
       "</div>"
      ],
      "text/plain": [
       "          Week  Off-White\n",
       "126 2017-11-05         68\n",
       "128 2017-11-19        100\n",
       "129 2017-11-26         65\n",
       "133 2017-12-24         67\n",
       "135 2018-01-07         67"
      ]
     },
     "execution_count": 35,
     "metadata": {},
     "output_type": "execute_result"
    }
   ],
   "source": [
    "off_white_peaks.head()"
   ]
  },
  {
   "cell_type": "markdown",
   "metadata": {},
   "source": [
    "##### We will then try to calculate date difference between StockX resale date and related peak date \n",
    "###### Calculate distance from closest peak date"
   ]
  },
  {
   "cell_type": "code",
   "execution_count": 37,
   "metadata": {},
   "outputs": [],
   "source": [
    "#This part loads for long\n",
    "#Let's add columns for Google Trends peaks differences\n",
    "def kanye_peak_distance(given_date):\n",
    "    #Taken a given_date try to find closest kanye_gtrends_peak and return its distance\n",
    "    #min_dist = abs(given_date - kanye_west_peaks['Week'].iloc[0])\n",
    "    min_d = 10000000\n",
    "    for i,j in kanye_west_peaks.iterrows():\n",
    "        #Difference between all Kanye peaks and 2017-09-01\n",
    "        date_diff = (given_date-j['Week']).days\n",
    "        #print(date_diff)\n",
    "        if date_diff < min_d and date_diff >=0:\n",
    "            min_d = date_diff  \n",
    "    if min_d == 10000000:\n",
    "        #print(None)\n",
    "        return None\n",
    "    return min_d\n",
    "\n",
    "def offwhite_peak_distance(given_date):\n",
    "    #Taken a given_date try to find closest kanye_gtrends_peak and return its distance\n",
    "    #min_dist = abs(given_date - kanye_west_peaks['Week'].iloc[0])\n",
    "    min_d = 10000000\n",
    "    for i,j in off_white_peaks.iterrows():\n",
    "        #Difference between all Kanye peaks and 2017-09-01\n",
    "        date_diff = (given_date-j['Week']).days\n",
    "        #print(date_diff)\n",
    "        if date_diff < min_d and date_diff >=0:\n",
    "            min_d = date_diff  \n",
    "    if min_d == 10000000:\n",
    "        #print(None)\n",
    "        return None\n",
    "    return min_d\n",
    "\n",
    "\n",
    "def yeezy_peak_distance(given_date):\n",
    "    #Taken a given_date try to find closest kanye_gtrends_peak and return its distance\n",
    "    #min_dist = abs(given_date - kanye_west_peaks['Week'].iloc[0])\n",
    "    min_d = 10000000\n",
    "    for i,j in adidas_yeezy_peaks.iterrows():\n",
    "        #Difference between all Kanye peaks and 2017-09-01\n",
    "        date_diff = (given_date-j['Week']).days\n",
    "        #print(date_diff)\n",
    "        if date_diff < min_d and date_diff >=0:\n",
    "            min_d = date_diff  \n",
    "    if min_d == 10000000:\n",
    "        #print(None)\n",
    "        return None\n",
    "    return min_d\n",
    "\n",
    "\n",
    "\n",
    "stockx_2019_data['Kanye Trend Diff'] = stockx_2019_data['Order Date'].apply(kanye_peak_distance)\n",
    "stockx_2019_data['Off-White Trend Diff'] = stockx_2019_data['Order Date'].apply(offwhite_peak_distance) \n",
    "stockx_2019_data['Yeezy Trend Diff'] = stockx_2019_data['Order Date'].apply(yeezy_peak_distance) "
   ]
  },
  {
   "cell_type": "code",
   "execution_count": 47,
   "metadata": {},
   "outputs": [
    {
     "data": {
      "text/html": [
       "<div>\n",
       "<style scoped>\n",
       "    .dataframe tbody tr th:only-of-type {\n",
       "        vertical-align: middle;\n",
       "    }\n",
       "\n",
       "    .dataframe tbody tr th {\n",
       "        vertical-align: top;\n",
       "    }\n",
       "\n",
       "    .dataframe thead th {\n",
       "        text-align: right;\n",
       "    }\n",
       "</style>\n",
       "<table border=\"1\" class=\"dataframe\">\n",
       "  <thead>\n",
       "    <tr style=\"text-align: right;\">\n",
       "      <th></th>\n",
       "      <th>Order Date</th>\n",
       "      <th>Brand</th>\n",
       "      <th>Sneaker Name</th>\n",
       "      <th>Sale Price</th>\n",
       "      <th>Retail Price</th>\n",
       "      <th>Release Date</th>\n",
       "      <th>Shoe Size</th>\n",
       "      <th>Buyer Region</th>\n",
       "      <th>Date Difference</th>\n",
       "      <th>Kanye Trend Diff</th>\n",
       "      <th>Off-White Trend Diff</th>\n",
       "      <th>Yeezy Trend Diff</th>\n",
       "    </tr>\n",
       "  </thead>\n",
       "  <tbody>\n",
       "    <tr>\n",
       "      <th>0</th>\n",
       "      <td>2017-09-01</td>\n",
       "      <td>Yeezy</td>\n",
       "      <td>Adidas-Yeezy-Boost-350-Low-V2-Beluga</td>\n",
       "      <td>1097</td>\n",
       "      <td>220</td>\n",
       "      <td>2016-09-24</td>\n",
       "      <td>11.0</td>\n",
       "      <td>California</td>\n",
       "      <td>342</td>\n",
       "      <td>285</td>\n",
       "      <td>NaN</td>\n",
       "      <td>75</td>\n",
       "    </tr>\n",
       "    <tr>\n",
       "      <th>1</th>\n",
       "      <td>2017-09-01</td>\n",
       "      <td>Yeezy</td>\n",
       "      <td>Adidas-Yeezy-Boost-350-V2-Core-Black-Copper</td>\n",
       "      <td>685</td>\n",
       "      <td>220</td>\n",
       "      <td>2016-11-23</td>\n",
       "      <td>11.0</td>\n",
       "      <td>California</td>\n",
       "      <td>282</td>\n",
       "      <td>285</td>\n",
       "      <td>NaN</td>\n",
       "      <td>75</td>\n",
       "    </tr>\n",
       "    <tr>\n",
       "      <th>2</th>\n",
       "      <td>2017-09-01</td>\n",
       "      <td>Yeezy</td>\n",
       "      <td>Adidas-Yeezy-Boost-350-V2-Core-Black-Green</td>\n",
       "      <td>690</td>\n",
       "      <td>220</td>\n",
       "      <td>2016-11-23</td>\n",
       "      <td>11.0</td>\n",
       "      <td>California</td>\n",
       "      <td>282</td>\n",
       "      <td>285</td>\n",
       "      <td>NaN</td>\n",
       "      <td>75</td>\n",
       "    </tr>\n",
       "    <tr>\n",
       "      <th>3</th>\n",
       "      <td>2017-09-01</td>\n",
       "      <td>Yeezy</td>\n",
       "      <td>Adidas-Yeezy-Boost-350-V2-Core-Black-Red</td>\n",
       "      <td>1075</td>\n",
       "      <td>220</td>\n",
       "      <td>2016-11-23</td>\n",
       "      <td>11.5</td>\n",
       "      <td>Kentucky</td>\n",
       "      <td>282</td>\n",
       "      <td>285</td>\n",
       "      <td>NaN</td>\n",
       "      <td>75</td>\n",
       "    </tr>\n",
       "    <tr>\n",
       "      <th>4</th>\n",
       "      <td>2017-09-01</td>\n",
       "      <td>Yeezy</td>\n",
       "      <td>Adidas-Yeezy-Boost-350-V2-Core-Black-Red-2017</td>\n",
       "      <td>828</td>\n",
       "      <td>220</td>\n",
       "      <td>2017-02-11</td>\n",
       "      <td>11.0</td>\n",
       "      <td>Rhode Island</td>\n",
       "      <td>202</td>\n",
       "      <td>285</td>\n",
       "      <td>NaN</td>\n",
       "      <td>75</td>\n",
       "    </tr>\n",
       "  </tbody>\n",
       "</table>\n",
       "</div>"
      ],
      "text/plain": [
       "  Order Date   Brand                                   Sneaker Name  \\\n",
       "0 2017-09-01   Yeezy           Adidas-Yeezy-Boost-350-Low-V2-Beluga   \n",
       "1 2017-09-01   Yeezy    Adidas-Yeezy-Boost-350-V2-Core-Black-Copper   \n",
       "2 2017-09-01   Yeezy     Adidas-Yeezy-Boost-350-V2-Core-Black-Green   \n",
       "3 2017-09-01   Yeezy       Adidas-Yeezy-Boost-350-V2-Core-Black-Red   \n",
       "4 2017-09-01   Yeezy  Adidas-Yeezy-Boost-350-V2-Core-Black-Red-2017   \n",
       "\n",
       "   Sale Price  Retail Price Release Date  Shoe Size  Buyer Region  \\\n",
       "0        1097           220   2016-09-24       11.0    California   \n",
       "1         685           220   2016-11-23       11.0    California   \n",
       "2         690           220   2016-11-23       11.0    California   \n",
       "3        1075           220   2016-11-23       11.5      Kentucky   \n",
       "4         828           220   2017-02-11       11.0  Rhode Island   \n",
       "\n",
       "   Date Difference  Kanye Trend Diff  Off-White Trend Diff  Yeezy Trend Diff  \n",
       "0              342               285                   NaN                75  \n",
       "1              282               285                   NaN                75  \n",
       "2              282               285                   NaN                75  \n",
       "3              282               285                   NaN                75  \n",
       "4              202               285                   NaN                75  "
      ]
     },
     "execution_count": 47,
     "metadata": {},
     "output_type": "execute_result"
    }
   ],
   "source": [
    "stockx_2019_data.head(5)"
   ]
  },
  {
   "cell_type": "markdown",
   "metadata": {},
   "source": [
    "### Data visualizations"
   ]
  },
  {
   "cell_type": "code",
   "execution_count": 81,
   "metadata": {},
   "outputs": [
    {
     "data": {
      "image/png": "[encoded data removed]",
      "text/plain": [
       "<Figure size 432x288 with 1 Axes>"
      ]
     },
     "metadata": {
      "needs_background": "light"
     },
     "output_type": "display_data"
    }
   ],
   "source": [
    "#For this example we randomly sampled only half of data in order to have better visualization (not too crowded, however same trend of sudden decrease is noticable)\n",
    "sample_for_visualization = stockx_2019_data.sample(frac=0.8, replace=True, random_state=1)\n",
    "var = 'Date Difference'\n",
    "data = pd.concat([sample_for_visualization['Sale Price'], sample_for_visualization[var]], axis=1)\n",
    "data.plot.scatter(x=var, y='Sale Price', ylim=(0,4000), s=32);"
   ]
  },
  {
   "cell_type": "code",
   "execution_count": 80,
   "metadata": {},
   "outputs": [
    {
     "data": {
      "image/png": "[encoded data removed]",
      "text/plain": [
       "<Figure size 432x288 with 1 Axes>"
      ]
     },
     "metadata": {
      "needs_background": "light"
     },
     "output_type": "display_data"
    }
   ],
   "source": [
    "#Isolate yeezy shoes only, and plot 'Yeezy Trend Diff' vs Price\n",
    "yeezy_subset = stockx_2019_data[stockx_2019_data['Brand']==' Yeezy']\n",
    "var = 'Yeezy Trend Diff'\n",
    "data = pd.concat([yeezy_subset['Sale Price'], yeezy_subset[var]], axis=1)\n",
    "data.plot.scatter(x=var, y='Sale Price', ylim=(0,3000), s=32);"
   ]
  },
  {
   "cell_type": "code",
   "execution_count": 83,
   "metadata": {},
   "outputs": [
    {
     "data": {
      "image/png": "[encoded data removed]",
      "text/plain": [
       "<Figure size 432x288 with 1 Axes>"
      ]
     },
     "metadata": {
      "needs_background": "light"
     },
     "output_type": "display_data"
    }
   ],
   "source": [
    "var = 'Kanye Trend Diff'\n",
    "data = pd.concat([yeezy_subset['Sale Price'], yeezy_subset[var]], axis=1)\n",
    "data.plot.scatter(x=var, y='Sale Price', ylim=(0,3000), s=32);"
   ]
  },
  {
   "cell_type": "code",
   "execution_count": 89,
   "metadata": {},
   "outputs": [
    {
     "data": {
      "image/png": "[encoded data removed]",
      "text/plain": [
       "<Figure size 432x288 with 1 Axes>"
      ]
     },
     "metadata": {
      "needs_background": "light"
     },
     "output_type": "display_data"
    }
   ],
   "source": [
    "#Remove extremes from Kanye subset, all retail prices above $1000\n",
    "no_extreme_yeezy = yeezy_subset[yeezy_subset['Sale Price']<1000]\n",
    "var = 'Kanye Trend Diff'\n",
    "data = pd.concat([no_extreme_yeezy['Sale Price'], no_extreme_yeezy[var]], axis=1)\n",
    "data.plot.scatter(x=var, y='Sale Price', ylim=(0,1200), s=32);"
   ]
  },
  {
   "cell_type": "code",
   "execution_count": null,
   "metadata": {},
   "outputs": [],
   "source": []
  }
 ],
 "metadata": {
  "kernelspec": {
   "display_name": "Python 3",
   "language": "python",
   "name": "python3"
  },
  "language_info": {
   "codemirror_mode": {
    "name": "ipython",
    "version": 3
   },
   "file_extension": ".py",
   "mimetype": "text/x-python",
   "name": "python",
   "nbconvert_exporter": "python",
   "pygments_lexer": "ipython3",
   "version": "3.7.1"
  }
 },
 "nbformat": 4,
 "nbformat_minor": 2
}
