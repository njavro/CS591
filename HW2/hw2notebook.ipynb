{
 "cells": [
  {
   "cell_type": "markdown",
   "metadata": {},
   "source": [
    "## CS591 Homework 2\n",
    "#### By Anton Njavro"
   ]
  },
  {
   "cell_type": "markdown",
   "metadata": {},
   "source": [
    "### EDA (Exploratory data analysis)"
   ]
  },
  {
   "cell_type": "code",
   "execution_count": 56,
   "metadata": {},
   "outputs": [],
   "source": [
    "import pandas as pd\n",
    "import numpy as np\n",
    "import matplotlib.pyplot as plt"
   ]
  },
  {
   "cell_type": "code",
   "execution_count": 40,
   "metadata": {},
   "outputs": [],
   "source": [
    "#Load data\n",
    "websiteA = pd.read_csv('WebsiteA.csv')\n",
    "websiteB = pd.read_csv('WebsiteB.csv')\n",
    "\n",
    "#Rename columns\n",
    "websiteA.columns = ['TimeStamp','DwellTime','Converted','PurchaseAmount']\n",
    "websiteB.columns = ['TimeStamp','DwellTime','Converted','PurchaseAmount']"
   ]
  },
  {
   "cell_type": "code",
   "execution_count": 41,
   "metadata": {},
   "outputs": [
    {
     "data": {
      "text/html": [
       "<div>\n",
       "<style scoped>\n",
       "    .dataframe tbody tr th:only-of-type {\n",
       "        vertical-align: middle;\n",
       "    }\n",
       "\n",
       "    .dataframe tbody tr th {\n",
       "        vertical-align: top;\n",
       "    }\n",
       "\n",
       "    .dataframe thead th {\n",
       "        text-align: right;\n",
       "    }\n",
       "</style>\n",
       "<table border=\"1\" class=\"dataframe\">\n",
       "  <thead>\n",
       "    <tr style=\"text-align: right;\">\n",
       "      <th></th>\n",
       "      <th>TimeStamp</th>\n",
       "      <th>DwellTime</th>\n",
       "      <th>Converted</th>\n",
       "      <th>PurchaseAmount</th>\n",
       "    </tr>\n",
       "  </thead>\n",
       "  <tbody>\n",
       "    <tr>\n",
       "      <th>0</th>\n",
       "      <td>179</td>\n",
       "      <td>58</td>\n",
       "      <td>0</td>\n",
       "      <td>0</td>\n",
       "    </tr>\n",
       "    <tr>\n",
       "      <th>1</th>\n",
       "      <td>307</td>\n",
       "      <td>55</td>\n",
       "      <td>0</td>\n",
       "      <td>0</td>\n",
       "    </tr>\n",
       "    <tr>\n",
       "      <th>2</th>\n",
       "      <td>540</td>\n",
       "      <td>97</td>\n",
       "      <td>0</td>\n",
       "      <td>0</td>\n",
       "    </tr>\n",
       "    <tr>\n",
       "      <th>3</th>\n",
       "      <td>788</td>\n",
       "      <td>16</td>\n",
       "      <td>0</td>\n",
       "      <td>0</td>\n",
       "    </tr>\n",
       "    <tr>\n",
       "      <th>4</th>\n",
       "      <td>804</td>\n",
       "      <td>553</td>\n",
       "      <td>0</td>\n",
       "      <td>0</td>\n",
       "    </tr>\n",
       "  </tbody>\n",
       "</table>\n",
       "</div>"
      ],
      "text/plain": [
       "   TimeStamp  DwellTime  Converted  PurchaseAmount\n",
       "0        179         58          0               0\n",
       "1        307         55          0               0\n",
       "2        540         97          0               0\n",
       "3        788         16          0               0\n",
       "4        804        553          0               0"
      ]
     },
     "execution_count": 41,
     "metadata": {},
     "output_type": "execute_result"
    }
   ],
   "source": [
    "#Display data\n",
    "websiteA.head()\n"
   ]
  },
  {
   "cell_type": "code",
   "execution_count": 55,
   "metadata": {},
   "outputs": [
    {
     "name": "stdout",
     "output_type": "stream",
     "text": [
      "A converts:  905\n",
      "B converts:  800\n",
      "\n",
      "A convert ratio:  0.0905\n",
      "B convert ratio:  0.1\n",
      "\n",
      "Revenue per customer (RPC) on website A:  414.14\n",
      "Revenue per customer (RPC) on website B:  381.67\n"
     ]
    }
   ],
   "source": [
    "#Get numbers on number of converts and amounts\n",
    "number_of_A_converts = np.sum(websiteA['Converted'])\n",
    "number_of_B_converts = np.sum(websiteB['Converted'])\n",
    "\n",
    "#Convert ratio\n",
    "convert_ratio_A = round(number_of_A_converts/len(websiteA),4)\n",
    "convert_ratio_B = round(number_of_B_converts/len(websiteB),4)\n",
    "\n",
    "#Revenue per customer \n",
    "rpcA =  round(np.sum(websiteA['PurchaseAmount'])/number_of_A_converts,2)\n",
    "rpcB =  round(np.sum(websiteB['PurchaseAmount'])/number_of_B_converts,2)\n",
    "\n",
    "print(\"A converts: \", number_of_A_converts)\n",
    "print(\"B converts: \", number_of_B_converts)\n",
    "print()\n",
    "print(\"A convert ratio: \", convert_ratio_A)\n",
    "print(\"B convert ratio: \", convert_ratio_B)\n",
    "print()\n",
    "print(\"Revenue per customer (RPC) on website A: \", rpcA)\n",
    "print(\"Revenue per customer (RPC) on website B: \", rpcB)"
   ]
  },
  {
   "cell_type": "code",
   "execution_count": null,
   "metadata": {},
   "outputs": [],
   "source": [
    "#Let's plot histograms\n",
    "_ = plt.hist(x = websiteA[''], y = )"
   ]
  }
 ],
 "metadata": {
  "kernelspec": {
   "display_name": "Python 3",
   "language": "python",
   "name": "python3"
  },
  "language_info": {
   "codemirror_mode": {
    "name": "ipython",
    "version": 3
   },
   "file_extension": ".py",
   "mimetype": "text/x-python",
   "name": "python",
   "nbconvert_exporter": "python",
   "pygments_lexer": "ipython3",
   "version": "3.7.1"
  }
 },
 "nbformat": 4,
 "nbformat_minor": 2
}
