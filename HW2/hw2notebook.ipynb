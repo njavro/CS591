{
 "cells": [
  {
   "cell_type": "markdown",
   "metadata": {},
   "source": [
    "## CS591 Homework 2\n",
    "#### By Anton Njavro"
   ]
  },
  {
   "cell_type": "markdown",
   "metadata": {},
   "source": [
    "### EDA (Exploratory data analysis)"
   ]
  },
  {
   "cell_type": "code",
   "execution_count": 101,
   "metadata": {},
   "outputs": [],
   "source": [
    "import pandas as pd\n",
    "import numpy as np\n",
    "import matplotlib.pyplot as plt\n",
    "import seaborn as sns \n",
    "from scipy import stats"
   ]
  },
  {
   "cell_type": "code",
   "execution_count": 74,
   "metadata": {},
   "outputs": [],
   "source": [
    "#Load data\n",
    "websiteA = pd.read_csv('WebsiteA.csv')\n",
    "websiteB = pd.read_csv('WebsiteB.csv')\n",
    "\n",
    "#Rename columns\n",
    "websiteA.columns = ['TimeStamp','DwellTime','Converted','PurchaseAmount']\n",
    "websiteB.columns = ['TimeStamp','DwellTime','Converted','PurchaseAmount']"
   ]
  },
  {
   "cell_type": "code",
   "execution_count": 75,
   "metadata": {},
   "outputs": [
    {
     "data": {
      "text/html": [
       "<div>\n",
       "<style scoped>\n",
       "    .dataframe tbody tr th:only-of-type {\n",
       "        vertical-align: middle;\n",
       "    }\n",
       "\n",
       "    .dataframe tbody tr th {\n",
       "        vertical-align: top;\n",
       "    }\n",
       "\n",
       "    .dataframe thead th {\n",
       "        text-align: right;\n",
       "    }\n",
       "</style>\n",
       "<table border=\"1\" class=\"dataframe\">\n",
       "  <thead>\n",
       "    <tr style=\"text-align: right;\">\n",
       "      <th></th>\n",
       "      <th>TimeStamp</th>\n",
       "      <th>DwellTime</th>\n",
       "      <th>Converted</th>\n",
       "      <th>PurchaseAmount</th>\n",
       "    </tr>\n",
       "  </thead>\n",
       "  <tbody>\n",
       "    <tr>\n",
       "      <th>0</th>\n",
       "      <td>179</td>\n",
       "      <td>58</td>\n",
       "      <td>0</td>\n",
       "      <td>0</td>\n",
       "    </tr>\n",
       "    <tr>\n",
       "      <th>1</th>\n",
       "      <td>307</td>\n",
       "      <td>55</td>\n",
       "      <td>0</td>\n",
       "      <td>0</td>\n",
       "    </tr>\n",
       "    <tr>\n",
       "      <th>2</th>\n",
       "      <td>540</td>\n",
       "      <td>97</td>\n",
       "      <td>0</td>\n",
       "      <td>0</td>\n",
       "    </tr>\n",
       "    <tr>\n",
       "      <th>3</th>\n",
       "      <td>788</td>\n",
       "      <td>16</td>\n",
       "      <td>0</td>\n",
       "      <td>0</td>\n",
       "    </tr>\n",
       "    <tr>\n",
       "      <th>4</th>\n",
       "      <td>804</td>\n",
       "      <td>553</td>\n",
       "      <td>0</td>\n",
       "      <td>0</td>\n",
       "    </tr>\n",
       "  </tbody>\n",
       "</table>\n",
       "</div>"
      ],
      "text/plain": [
       "   TimeStamp  DwellTime  Converted  PurchaseAmount\n",
       "0        179         58          0               0\n",
       "1        307         55          0               0\n",
       "2        540         97          0               0\n",
       "3        788         16          0               0\n",
       "4        804        553          0               0"
      ]
     },
     "execution_count": 75,
     "metadata": {},
     "output_type": "execute_result"
    }
   ],
   "source": [
    "#Display data\n",
    "websiteA.head()\n"
   ]
  },
  {
   "cell_type": "code",
   "execution_count": 99,
   "metadata": {},
   "outputs": [
    {
     "name": "stdout",
     "output_type": "stream",
     "text": [
      "Size of A:  9999\n",
      "Size of B:  7999\n",
      "\n",
      "A converts:  905\n",
      "B converts:  800\n",
      "\n",
      "A convert ratio:  0.0905\n",
      "B convert ratio:  0.1\n",
      "\n",
      "Revenue per customer (RPC) on website A:  $ 414.14\n",
      "Revenue per customer (RPC) on website B:  $ 381.67\n"
     ]
    }
   ],
   "source": [
    "#Get numbers on number of converts and amounts\n",
    "number_of_A_converts = np.sum(websiteA['Converted'])\n",
    "number_of_B_converts = np.sum(websiteB['Converted'])\n",
    "\n",
    "#Convert ratio\n",
    "convert_ratio_A = round(number_of_A_converts/len(websiteA),4)\n",
    "convert_ratio_B = round(number_of_B_converts/len(websiteB),4)\n",
    "\n",
    "#Revenue per customer \n",
    "rpcA =  round(np.sum(websiteA['PurchaseAmount'])/number_of_A_converts,2)\n",
    "rpcB =  round(np.sum(websiteB['PurchaseAmount'])/number_of_B_converts,2)\n",
    "\n",
    "print(\"Size of A: \", len(websiteA))\n",
    "print(\"Size of B: \", len(websiteB))\n",
    "print()\n",
    "print(\"A converts: \", number_of_A_converts)\n",
    "print(\"B converts: \", number_of_B_converts)\n",
    "print()\n",
    "print(\"A convert ratio: \", convert_ratio_A)\n",
    "print(\"B convert ratio: \", convert_ratio_B)\n",
    "print()\n",
    "print(\"Revenue per customer (RPC) on website A:  $\", rpcA)\n",
    "print(\"Revenue per customer (RPC) on website B:  $\", rpcB)"
   ]
  },
  {
   "cell_type": "code",
   "execution_count": 92,
   "metadata": {},
   "outputs": [],
   "source": [
    "#Make list only for customers that spent money\n",
    "purchasedA = websiteA['PurchaseAmount']>0\n",
    "revenueListA = websiteA[purchasedA]\n",
    "\n",
    "purchasedB = websiteB['PurchaseAmount']>0\n",
    "revenueListB = websiteB[purchasedB]\n",
    "\n",
    "#ECDF\n",
    "def ecdf(given_col):\n",
    "    x=np.sort(given_col)\n",
    "    y=np.arange(1,len(x)+1)/len(x)\n",
    "    return x,y"
   ]
  },
  {
   "cell_type": "markdown",
   "metadata": {},
   "source": [
    "#### ECDF"
   ]
  },
  {
   "cell_type": "code",
   "execution_count": 93,
   "metadata": {},
   "outputs": [
    {
     "data": {
      "image/png": "[encoded data removed]",
      "text/plain": [
       "<Figure size 432x288 with 1 Axes>"
      ]
     },
     "metadata": {
      "needs_background": "light"
     },
     "output_type": "display_data"
    }
   ],
   "source": [
    "#Plot ECDF for website A\n",
    "col_x, col_y = ecdf(revenueListA['PurchaseAmount'])\n",
    "_=plt.plot(col_x,col_y,marker='.',linestyle='none')\n",
    "_ = plt.xlabel('Dollars spent')\n",
    "_ = plt.ylabel('ECDF')\n",
    "plt.show()"
   ]
  },
  {
   "cell_type": "code",
   "execution_count": 108,
   "metadata": {},
   "outputs": [
    {
     "name": "stdout",
     "output_type": "stream",
     "text": [
      "16481\n"
     ]
    }
   ],
   "source": [
    "def get_power(n, p1, p2, c1):\n",
    "    alpha = 1-c1\n",
    "    qu = stats.norm.ppf(1-alpha/2)\n",
    "    diff = abs(p2-p1)\n",
    "    bp = (p1+p2)/2\n",
    "    v1 = p1*(1-p1)\n",
    "    v2 = p2*(1-p2)\n",
    "    bv = bp*(1-bp)\n",
    "    power_part_one = stats.norm.cdf((n**0.5*diff-qu*(2*bv)**0.5)/(v1+v2)**0.5)\n",
    "    power_part_two = 1 - stats.norm.cdf((n**0.5*diff+qu*(2*bv)**0.5)/(v1+v2)**0.5)\n",
    "    power = power_part_one + power_part_two\n",
    "    return power\n",
    "\n",
    "\n",
    "def get_sample_size(power,p1,p2,c1,max_n = 10000000):\n",
    "    n=1\n",
    "    while n<=max_n:\n",
    "        tmp_pwr = get_power(n,p1,p2,c1)\n",
    "        if tmp_pwr>=power:\n",
    "            return n\n",
    "        else:\n",
    "            n+=1\n",
    "            \n",
    "sample_size_per_group = get_sample_size(0.8,convert_ratio_A,convert_ratio_A*1.1,0.95)\n",
    "print(sample_size_per_group)"
   ]
  },
  {
   "cell_type": "code",
   "execution_count": 119,
   "metadata": {},
   "outputs": [
    {
     "name": "stdout",
     "output_type": "stream",
     "text": [
      "P-Val:  0.999807029364192\n"
     ]
    }
   ],
   "source": [
    "def get_pval(A_conv,B_conv,A_size,B_size):\n",
    "    lift = -abs(B_conv-A_conv)\n",
    "    scale_one = A_conv * (1-A_conv)/(1/A_size)\n",
    "    scale_two = B_conv * (1-B_conv)/(1/B_size)\n",
    "    scale_val = (scale_one+scale_two)**0.5\n",
    "    p_val = 2 * stats.norm.cdf(lift,loc=0,scale=scale_val)\n",
    "    return p_val\n",
    "\n",
    "#Pval for converison rate\n",
    "print(\"P-Val: \",get_pval(convert_ratio_A,convert_ratio_B,len(websiteA),len(websiteB)))"
   ]
  },
  {
   "cell_type": "code",
   "execution_count": 120,
   "metadata": {},
   "outputs": [
    {
     "name": "stdout",
     "output_type": "stream",
     "text": [
      "Power:  0.5345486424126201\n"
     ]
    }
   ],
   "source": [
    "print(\"Power: \",get_power(len(websiteB),convert_ratio_A,convert_ratio_B,0.95))"
   ]
  },
  {
   "cell_type": "code",
   "execution_count": 121,
   "metadata": {},
   "outputs": [
    {
     "name": "stdout",
     "output_type": "stream",
     "text": [
      "t =  3.439619437569628\n",
      "p =  0.0005965806878385328\n"
     ]
    }
   ],
   "source": [
    "#Let's Perform T-test on revenue per customer\n",
    "t, p = stats.ttest_ind(revenueListA['PurchaseAmount'],revenueListB['PurchaseAmount'])\n",
    "print(\"t = \", str(t))\n",
    "print(\"p = \", str(p))\n"
   ]
  },
  {
   "cell_type": "markdown",
   "metadata": {},
   "source": [
    "With such a low p-value we can reject Ho and assert that there is significant difference when it comes to two populations in regards to RPC.\n",
    "\n",
    "We can conclude that there is a significant drop in revenue per user on site B, hence we should re-inspect it and not proceed with it for the time being."
   ]
  },
  {
   "cell_type": "code",
   "execution_count": null,
   "metadata": {},
   "outputs": [],
   "source": []
  }
 ],
 "metadata": {
  "kernelspec": {
   "display_name": "Python 3",
   "language": "python",
   "name": "python3"
  },
  "language_info": {
   "codemirror_mode": {
    "name": "ipython",
    "version": 3
   },
   "file_extension": ".py",
   "mimetype": "text/x-python",
   "name": "python",
   "nbconvert_exporter": "python",
   "pygments_lexer": "ipython3",
   "version": "3.7.1"
  }
 },
 "nbformat": 4,
 "nbformat_minor": 2
}
